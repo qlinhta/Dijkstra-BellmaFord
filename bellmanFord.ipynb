{
 "cells": [
  {
   "cell_type": "code",
   "execution_count": 8,
   "metadata": {},
   "outputs": [],
   "source": [
    "def bellmanford(graph, source):\n",
    "    distance, predecessor = dict(), dict()\n",
    "    for node in graph:\n",
    "        distance[node], predecessor[node] = float('inf'), None\n",
    "    distance[source] = 0\n",
    "\n",
    "    for i in range(len(graph) - 1):\n",
    "        for node in graph:\n",
    "            for neighbour in graph[node]:\n",
    "                if distance[neighbour] > distance[node] + graph[node][neighbour]:\n",
    "                    distance[neighbour], predecessor[neighbour] = distance[node] + graph[node][neighbour], node\n",
    "\n",
    "    for node in graph:\n",
    "        for neighbour in graph[node]:\n",
    "            assert distance[neighbour] <= distance[node] + graph[node][neighbour], \"Negative weight cycle.\"\n",
    " \n",
    "    return distance, predecessor"
   ]
  },
  {
   "cell_type": "code",
   "execution_count": 11,
   "metadata": {},
   "outputs": [
    {
     "name": "stdout",
     "output_type": "stream",
     "text": [
      "{'a': 0, 'b': -1, 'c': 2, 'd': -2, 'e': 1}\n",
      "{'a': 0, 'b': 10, 'c': 3, 'd': 4}\n"
     ]
    }
   ],
   "source": [
    "if __name__ == '__main__':\n",
    "    graph = {\n",
    "        'a': {'b': -1, 'c':  4},\n",
    "        'b': {'c':  3, 'd':  2, 'e':  2},\n",
    "        'c': {},\n",
    "        'd': {'b':  1, 'c':  5},\n",
    "        'e': {'d': -3}\n",
    "    }\n",
    "\n",
    "    distance, predecessor = bellmanford(graph, source='a')\n",
    "\n",
    "    print(distance)\n",
    "    \n",
    "    graph = {\n",
    "        'a': {'c': 3},\n",
    "        'b': {'a': 2},\n",
    "        'c': {'b': 7, 'd': 1},\n",
    "        'd': {'a': 6},\n",
    "    }\n",
    " \n",
    "    distance, predecessor = bellmanford(graph, source='a')\n",
    "\n",
    "    print(distance)"
   ]
  },
  {
   "cell_type": "code",
   "execution_count": null,
   "metadata": {},
   "outputs": [],
   "source": []
  }
 ],
 "metadata": {
  "kernelspec": {
   "display_name": "Python 3",
   "language": "python",
   "name": "python3"
  },
  "language_info": {
   "codemirror_mode": {
    "name": "ipython",
    "version": 3
   },
   "file_extension": ".py",
   "mimetype": "text/x-python",
   "name": "python",
   "nbconvert_exporter": "python",
   "pygments_lexer": "ipython3",
   "version": "3.8.5"
  }
 },
 "nbformat": 4,
 "nbformat_minor": 4
}
